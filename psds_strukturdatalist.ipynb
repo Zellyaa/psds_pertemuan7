{
  "nbformat": 4,
  "nbformat_minor": 0,
  "metadata": {
    "colab": {
      "provenance": [],
      "toc_visible": true
    },
    "kernelspec": {
      "name": "python3",
      "display_name": "Python 3"
    },
    "language_info": {
      "name": "python"
    }
  },
  "cells": [
    {
      "cell_type": "markdown",
      "source": [
        "struktur data list\n",
        "list adalah jenis kumpulan data terurut (ordered sequence), bisa diubah elemennya (mutable), bisa ditambah maupun dikurang elemennya, dan merupakan salah satu variabel yang sering digunakan pada python. serupa namun tak sama dengan array pada bahasa pemrograman lainnya. bedanya, elemen list pada python tidak harus memiliki tipe data yang sama. mendeklarasikan list cukup mudah dengan kurung siku dan elemen yang dipisahkan dengan koma. setiap data di dalamnya dapat diakses dengan indeks yang dimulai dari 0"
      ],
      "metadata": {
        "id": "nW0kYG28kESe"
      }
    },
    {
      "cell_type": "code",
      "source": [
        "#contoh data list\n",
        "list1=[1,2,3,4]\n",
        "print(type(list1))"
      ],
      "metadata": {
        "colab": {
          "base_uri": "https://localhost:8080/"
        },
        "id": "hU0UTJPYkKrq",
        "outputId": "18a918f1-4989-4e8d-8aed-a10d7421c11a"
      },
      "execution_count": 1,
      "outputs": [
        {
          "output_type": "stream",
          "name": "stdout",
          "text": [
            "<class 'list'>\n"
          ]
        }
      ]
    },
    {
      "cell_type": "code",
      "source": [
        "list2=['a','b','c',2,0,3,9]"
      ],
      "metadata": {
        "id": "hvLXU2HVj9Oa"
      },
      "execution_count": 2,
      "outputs": []
    },
    {
      "cell_type": "code",
      "source": [
        "print(list1)\n",
        "print(list2)"
      ],
      "metadata": {
        "colab": {
          "base_uri": "https://localhost:8080/"
        },
        "id": "3dqz5ztWtq7N",
        "outputId": "5f9231c3-91f2-42fd-9d1b-25e37aa1b85c"
      },
      "execution_count": 3,
      "outputs": [
        {
          "output_type": "stream",
          "name": "stdout",
          "text": [
            "[1, 2, 3, 4]\n",
            "['a', 'b', 'c', 2, 0, 3, 9]\n"
          ]
        }
      ]
    },
    {
      "cell_type": "markdown",
      "source": [
        "indeks di python (list,tuple) mulai dari 0"
      ],
      "metadata": {
        "id": "UA81BGckvDPR"
      }
    },
    {
      "cell_type": "code",
      "source": [
        "#sifat-sifat list\n",
        "#terurut/ordered\n",
        "print('memanggil list list1 dengan menggunakan indeks urutan: ', list[0:3])\n",
        "\n",
        "#bisa diganti/mutable\n",
        "list1[1]=2\n",
        "print('list list1 setelah diganti elemennya: ',list1)\n",
        "\n",
        "list1=[1,'dua', False, 2+3j]\n",
        "\n",
        "#dapat diindeks/slicing\n",
        "print('slicing list1 : ',list1[3])\n"
      ],
      "metadata": {
        "id": "PQz3nqRbvMJf",
        "colab": {
          "base_uri": "https://localhost:8080/"
        },
        "outputId": "de03cd42-d64c-4161-9f30-4e10c034c0d3"
      },
      "execution_count": 4,
      "outputs": [
        {
          "output_type": "stream",
          "name": "stdout",
          "text": [
            "memanggil list list1 dengan menggunakan indeks urutan:  list[slice(0, 3, None)]\n",
            "list list1 setelah diganti elemennya:  [1, 2, 3, 4]\n",
            "slicing list1 :  (2+3j)\n"
          ]
        }
      ]
    },
    {
      "cell_type": "code",
      "source": [
        "#dapat diijinkan duplikasi\n",
        "list1=[1,'dua', False, 2+3j]\n",
        "print('duplikasi pada list list1',list1)\n",
        "\n",
        "#dapat mengubah data dengan mengganti elemen tertentu\n",
        "list1=[1,'dua', False, 2+3j]\n",
        "list1[2]=3\n",
        "print('data setelah diubah',list1)\n",
        "\n",
        "#dapat menambahkan elemen baru pada data\n",
        "list1=[1,'dua', False, 2+3j]\n",
        "list1.append(22)\n",
        "print('data setelah ditambahkan elemennya : ',list1)\n",
        "\n",
        "#dapat menambahkan elemen baru pada data\n",
        "list1=[1,'dua', False, 2+3j]\n",
        "list1.remove(2+3j)\n",
        "print('data setelah dihapus elemennya : ',list1)\n",
        "\n"
      ],
      "metadata": {
        "id": "NomMFOw-t11I",
        "colab": {
          "base_uri": "https://localhost:8080/"
        },
        "outputId": "0a91b25e-2c50-4ad0-ab0c-43a18c7802d6"
      },
      "execution_count": 5,
      "outputs": [
        {
          "output_type": "stream",
          "name": "stdout",
          "text": [
            "duplikasi pada list list1 [1, 'dua', False, (2+3j)]\n",
            "data setelah diubah [1, 'dua', 3, (2+3j)]\n",
            "data setelah ditambahkan elemennya :  [1, 'dua', False, (2+3j), 22]\n",
            "data setelah dihapus elemennya :  [1, 'dua', False]\n"
          ]
        }
      ]
    },
    {
      "cell_type": "code",
      "source": [
        "#menambahkan data menggunakan fungsi extend(menambahkan elemen baru pada list namun elemen tsb ditambahkan secara individual)\n",
        "l1=[1,'dua',True, False, 3+2j]\n",
        "l1.extend(['nanas'])\n",
        "print(l1)"
      ],
      "metadata": {
        "colab": {
          "base_uri": "https://localhost:8080/"
        },
        "id": "GTMDRNQvts9o",
        "outputId": "5b4fb03d-0411-4289-826d-6f03ee7cd448"
      },
      "execution_count": 6,
      "outputs": [
        {
          "output_type": "stream",
          "name": "stdout",
          "text": [
            "[1, 'dua', True, False, (3+2j), 'nanas']\n"
          ]
        }
      ]
    },
    {
      "cell_type": "code",
      "source": [
        "#menghapus elemen dari list menggunakan fungsi pop() (menghapus berdasarkan indeks)\n",
        "l1=[1,'dua',True, False, 3+2j]\n",
        "l1.pop(2)\n",
        "print(l1)"
      ],
      "metadata": {
        "colab": {
          "base_uri": "https://localhost:8080/"
        },
        "id": "Jvb5advuw0oK",
        "outputId": "69e34700-1f96-4968-a13b-fe1840390608"
      },
      "execution_count": 7,
      "outputs": [
        {
          "output_type": "stream",
          "name": "stdout",
          "text": [
            "[1, 'dua', False, (3+2j)]\n"
          ]
        }
      ]
    },
    {
      "cell_type": "code",
      "source": [
        "#membuat list baru\n",
        "list2=['a','b','c',2,0,3,9]\n",
        "list2[1]=2002\n",
        "print(list2)"
      ],
      "metadata": {
        "colab": {
          "base_uri": "https://localhost:8080/"
        },
        "id": "O6OiOYB6xbon",
        "outputId": "6602246e-87b5-4df6-ba46-5eb69197963c"
      },
      "execution_count": 10,
      "outputs": [
        {
          "output_type": "stream",
          "name": "stdout",
          "text": [
            "['a', 2002, 'c', 2, 0, 3, 9]\n"
          ]
        }
      ]
    },
    {
      "cell_type": "code",
      "source": [
        "list2.append(22)\n",
        "print(list2)"
      ],
      "metadata": {
        "colab": {
          "base_uri": "https://localhost:8080/"
        },
        "id": "AV4SFp2l3cRy",
        "outputId": "87dcd89d-6385-4ccf-cbc5-06bbc0026152"
      },
      "execution_count": 12,
      "outputs": [
        {
          "output_type": "stream",
          "name": "stdout",
          "text": [
            "['a', 2002, 'c', 2, 0, 3, 9, 22, 22]\n"
          ]
        }
      ]
    },
    {
      "cell_type": "code",
      "source": [
        "list2=['a','b','c',2,0,3,9]\n",
        "list2.extend(['apel'])\n",
        "print(list2)"
      ],
      "metadata": {
        "colab": {
          "base_uri": "https://localhost:8080/"
        },
        "id": "_jwULpWp3xrx",
        "outputId": "e6792f9b-7361-42d7-d5e6-be0c643d8a90"
      },
      "execution_count": 18,
      "outputs": [
        {
          "output_type": "stream",
          "name": "stdout",
          "text": [
            "['a', 'b', 'c', 2, 0, 3, 9, 'apel']\n"
          ]
        }
      ]
    },
    {
      "cell_type": "code",
      "source": [
        "list2=['a','b','c',2,0,3,9]\n",
        "list2.insert(5,4)\n",
        "print(list2)"
      ],
      "metadata": {
        "colab": {
          "base_uri": "https://localhost:8080/"
        },
        "id": "FQgyH5ai4XiX",
        "outputId": "e6422d86-2f3b-4015-d390-6805b8fb9c49"
      },
      "execution_count": 24,
      "outputs": [
        {
          "output_type": "stream",
          "name": "stdout",
          "text": [
            "['a', 'b', 'c', 2, 0, 4, 3, 9]\n"
          ]
        }
      ]
    },
    {
      "cell_type": "code",
      "source": [
        "list2=['a','b','c',2,0,3,9]\n",
        "list2.pop(4)\n",
        "print(list2)"
      ],
      "metadata": {
        "colab": {
          "base_uri": "https://localhost:8080/"
        },
        "id": "U-P_cOkC44xY",
        "outputId": "0ef21c2e-1bb7-4fa6-def0-08986c49ac83"
      },
      "execution_count": 25,
      "outputs": [
        {
          "output_type": "stream",
          "name": "stdout",
          "text": [
            "['a', 'b', 'c', 2, 3, 9]\n"
          ]
        }
      ]
    },
    {
      "cell_type": "code",
      "source": [],
      "metadata": {
        "id": "OSc0vuQf49Xy"
      },
      "execution_count": null,
      "outputs": []
    }
  ]
}